{
  "cells": [
    {
      "cell_type": "code",
      "execution_count": 3,
      "metadata": {
        "execution": {
          "iopub.execute_input": "2020-09-23T00:11:56.338306Z",
          "iopub.status.busy": "2020-09-23T00:11:56.337617Z",
          "iopub.status.idle": "2020-09-23T00:12:03.150200Z",
          "shell.execute_reply": "2020-09-23T00:12:03.150753Z"
        },
        "id": "dzLKpmZICaWN",
        "colab": {
          "base_uri": "https://localhost:8080/"
        },
        "outputId": "f9beff82-a6d0-4e7a-c39a-4114d7c8e205"
      },
      "outputs": [
        {
          "output_type": "stream",
          "name": "stdout",
          "text": [
            "2.14.0\n"
          ]
        }
      ],
      "source": [
        "# TensorFlow y tf.keras\n",
        "import tensorflow as tf\n",
        "from tensorflow import keras\n",
        "\n",
        "# Librerias de ayuda\n",
        "import numpy as np\n",
        "import matplotlib.pyplot as plt\n",
        "\n",
        "print(tf.__version__)"
      ]
    },
    {
      "cell_type": "code",
      "execution_count": 4,
      "metadata": {
        "execution": {
          "iopub.execute_input": "2020-09-23T00:12:03.156630Z",
          "iopub.status.busy": "2020-09-23T00:12:03.154908Z",
          "iopub.status.idle": "2020-09-23T00:12:04.600741Z",
          "shell.execute_reply": "2020-09-23T00:12:04.600139Z"
        },
        "id": "7MqDQO0KCaWS",
        "colab": {
          "base_uri": "https://localhost:8080/"
        },
        "outputId": "fe533be8-da83-4ac1-acd0-8211a6eeb366"
      },
      "outputs": [
        {
          "output_type": "stream",
          "name": "stdout",
          "text": [
            "Downloading data from https://storage.googleapis.com/tensorflow/tf-keras-datasets/train-labels-idx1-ubyte.gz\n",
            "29515/29515 [==============================] - 0s 0us/step\n",
            "Downloading data from https://storage.googleapis.com/tensorflow/tf-keras-datasets/train-images-idx3-ubyte.gz\n",
            "26421880/26421880 [==============================] - 0s 0us/step\n",
            "Downloading data from https://storage.googleapis.com/tensorflow/tf-keras-datasets/t10k-labels-idx1-ubyte.gz\n",
            "5148/5148 [==============================] - 0s 0us/step\n",
            "Downloading data from https://storage.googleapis.com/tensorflow/tf-keras-datasets/t10k-images-idx3-ubyte.gz\n",
            "4422102/4422102 [==============================] - 0s 0us/step\n"
          ]
        }
      ],
      "source": [
        "fashion_mnist = keras.datasets.fashion_mnist\n",
        "\n",
        "(train_images, train_labels), (test_images, test_labels) = fashion_mnist.load_data()"
      ]
    },
    {
      "cell_type": "code",
      "execution_count": 5,
      "metadata": {
        "execution": {
          "iopub.execute_input": "2020-09-23T00:12:04.605691Z",
          "iopub.status.busy": "2020-09-23T00:12:04.605005Z",
          "iopub.status.idle": "2020-09-23T00:12:04.607235Z",
          "shell.execute_reply": "2020-09-23T00:12:04.606589Z"
        },
        "id": "IjnLH5S2CaWx"
      },
      "outputs": [],
      "source": [
        "class_names = ['T-shirt/top', 'Trouser', 'Pullover', 'Dress', 'Coat',\n",
        "               'Sandal', 'Shirt', 'Sneaker', 'Bag', 'Ankle boot']"
      ]
    },
    {
      "cell_type": "code",
      "execution_count": 6,
      "metadata": {
        "execution": {
          "iopub.execute_input": "2020-09-23T00:12:04.612889Z",
          "iopub.status.busy": "2020-09-23T00:12:04.612214Z",
          "iopub.status.idle": "2020-09-23T00:12:04.615425Z",
          "shell.execute_reply": "2020-09-23T00:12:04.615926Z"
        },
        "id": "zW5k_xz1CaWX",
        "colab": {
          "base_uri": "https://localhost:8080/"
        },
        "outputId": "cdc92994-bb68-472c-cd45-c1f28e74e358"
      },
      "outputs": [
        {
          "output_type": "execute_result",
          "data": {
            "text/plain": [
              "(60000, 28, 28)"
            ]
          },
          "metadata": {},
          "execution_count": 6
        }
      ],
      "source": [
        "train_images.shape"
      ]
    },
    {
      "cell_type": "code",
      "execution_count": 7,
      "metadata": {
        "execution": {
          "iopub.execute_input": "2020-09-23T00:12:04.619917Z",
          "iopub.status.busy": "2020-09-23T00:12:04.619263Z",
          "iopub.status.idle": "2020-09-23T00:12:04.622504Z",
          "shell.execute_reply": "2020-09-23T00:12:04.621929Z"
        },
        "id": "TRFYHB2mCaWb",
        "colab": {
          "base_uri": "https://localhost:8080/"
        },
        "outputId": "045c4bd3-c9ad-4862-d4d4-277cd79c85d7"
      },
      "outputs": [
        {
          "output_type": "execute_result",
          "data": {
            "text/plain": [
              "60000"
            ]
          },
          "metadata": {},
          "execution_count": 7
        }
      ],
      "source": [
        "len(train_labels)"
      ]
    },
    {
      "cell_type": "code",
      "execution_count": 8,
      "metadata": {
        "execution": {
          "iopub.execute_input": "2020-09-23T00:12:04.626690Z",
          "iopub.status.busy": "2020-09-23T00:12:04.626075Z",
          "iopub.status.idle": "2020-09-23T00:12:04.629060Z",
          "shell.execute_reply": "2020-09-23T00:12:04.628553Z"
        },
        "id": "XKnCTHz4CaWg",
        "colab": {
          "base_uri": "https://localhost:8080/"
        },
        "outputId": "fed98baa-1e31-4e7d-9298-f089acb9fa69"
      },
      "outputs": [
        {
          "output_type": "execute_result",
          "data": {
            "text/plain": [
              "array([9, 0, 0, ..., 3, 0, 5], dtype=uint8)"
            ]
          },
          "metadata": {},
          "execution_count": 8
        }
      ],
      "source": [
        "train_labels"
      ]
    },
    {
      "cell_type": "code",
      "execution_count": 9,
      "metadata": {
        "execution": {
          "iopub.execute_input": "2020-09-23T00:12:04.632971Z",
          "iopub.status.busy": "2020-09-23T00:12:04.632319Z",
          "iopub.status.idle": "2020-09-23T00:12:04.634737Z",
          "shell.execute_reply": "2020-09-23T00:12:04.635201Z"
        },
        "id": "2KFnYlcwCaWl",
        "colab": {
          "base_uri": "https://localhost:8080/"
        },
        "outputId": "6d5616a3-1ee7-48b9-a341-d4f4970cf38d"
      },
      "outputs": [
        {
          "output_type": "execute_result",
          "data": {
            "text/plain": [
              "(10000, 28, 28)"
            ]
          },
          "metadata": {},
          "execution_count": 9
        }
      ],
      "source": [
        "test_images.shape"
      ]
    },
    {
      "cell_type": "code",
      "execution_count": 10,
      "metadata": {
        "execution": {
          "iopub.execute_input": "2020-09-23T00:12:04.638892Z",
          "iopub.status.busy": "2020-09-23T00:12:04.638288Z",
          "iopub.status.idle": "2020-09-23T00:12:04.641162Z",
          "shell.execute_reply": "2020-09-23T00:12:04.640615Z"
        },
        "id": "iJmPr5-ACaWn",
        "colab": {
          "base_uri": "https://localhost:8080/"
        },
        "outputId": "cdcc2d39-15e9-4dd0-ad52-348dd896fffc"
      },
      "outputs": [
        {
          "output_type": "execute_result",
          "data": {
            "text/plain": [
              "10000"
            ]
          },
          "metadata": {},
          "execution_count": 10
        }
      ],
      "source": [
        "len(test_labels)"
      ]
    },
    {
      "cell_type": "code",
      "execution_count": 11,
      "metadata": {
        "execution": {
          "iopub.execute_input": "2020-09-23T00:12:04.662721Z",
          "iopub.status.busy": "2020-09-23T00:12:04.645719Z",
          "iopub.status.idle": "2020-09-23T00:12:04.845607Z",
          "shell.execute_reply": "2020-09-23T00:12:04.846037Z"
        },
        "id": "m4VEw8Ud9Quh",
        "colab": {
          "base_uri": "https://localhost:8080/",
          "height": 430
        },
        "outputId": "eb1776ac-b5f0-45d8-f0ba-5c24cf253de1"
      },
      "outputs": [
        {
          "output_type": "display_data",
          "data": {
            "text/plain": [
              "<Figure size 640x480 with 2 Axes>"
            ],
            "image/png": "[encoded data removed]"
          },
          "metadata": {}
        }
      ],
      "source": [
        "plt.figure()\n",
        "plt.imshow(train_images[0])\n",
        "plt.colorbar()\n",
        "plt.grid(False)\n",
        "plt.show()"
      ]
    },
    {
      "cell_type": "code",
      "execution_count": 12,
      "metadata": {
        "execution": {
          "iopub.execute_input": "2020-09-23T00:12:04.850245Z",
          "iopub.status.busy": "2020-09-23T00:12:04.849612Z",
          "iopub.status.idle": "2020-09-23T00:12:05.014795Z",
          "shell.execute_reply": "2020-09-23T00:12:05.015335Z"
        },
        "id": "bW5WzIPlCaWv"
      },
      "outputs": [],
      "source": [
        "train_images = train_images / 255.0\n",
        "\n",
        "test_images = test_images / 255.0"
      ]
    },
    {
      "cell_type": "code",
      "execution_count": 13,
      "metadata": {
        "execution": {
          "iopub.execute_input": "2020-09-23T00:12:05.031312Z",
          "iopub.status.busy": "2020-09-23T00:12:05.030478Z",
          "iopub.status.idle": "2020-09-23T00:12:05.895379Z",
          "shell.execute_reply": "2020-09-23T00:12:05.895951Z"
        },
        "id": "oZTImqg_CaW1",
        "colab": {
          "base_uri": "https://localhost:8080/",
          "height": 507
        },
        "outputId": "c2b07283-2d41-4bb1-c7dc-dc35906d5b51"
      },
      "outputs": [
        {
          "output_type": "display_data",
          "data": {
            "text/plain": [
              "<Figure size 1000x1000 with 15 Axes>"
            ],
            "image/png": "[encoded data removed]"
          },
          "metadata": {}
        }
      ],
      "source": [
        "plt.figure(figsize=(10,10))\n",
        "for i in range(15):#primeros 15 imagenes\n",
        "    plt.subplot(5,5,i+1)\n",
        "    plt.xticks([])\n",
        "    plt.yticks([])\n",
        "    plt.grid(False)\n",
        "    plt.imshow(train_images[i], cmap=plt.cm.binary)\n",
        "    plt.xlabel(class_names[train_labels[i]])\n",
        "plt.show()"
      ]
    },
    {
      "cell_type": "code",
      "source": [
        "#cambios en modelo para ver si mejora (puse arriba el codigo porque como no mejoraba para que no afectara la secuencia del codigo)\n",
        "model = keras.Sequential([\n",
        "    keras.layers.Flatten(input_shape=(28, 28)),\n",
        "    keras.layers.Dense(256, activation='relu'),  # Cambio en el número de neuronas\n",
        "    keras.layers.Dropout(0.5),  # Agregar Dropout para regularización\n",
        "    keras.layers.Dense(128, activation='relu'),  # Capa oculta adicional\n",
        "    keras.layers.Dense(10, activation='softmax')\n",
        "])"
      ],
      "metadata": {
        "id": "BXR6t01tsDnl"
      },
      "execution_count": 33,
      "outputs": []
    },
    {
      "cell_type": "code",
      "source": [
        "model.compile(optimizer='adam',\n",
        "              loss='sparse_categorical_crossentropy',\n",
        "              metrics=['accuracy'])"
      ],
      "metadata": {
        "id": "QK_igAJisKDQ"
      },
      "execution_count": 34,
      "outputs": []
    },
    {
      "cell_type": "code",
      "source": [
        "model.fit(train_images, train_labels, epochs=15, batch_size=64)  # Cambio en el tamaño del lote"
      ],
      "metadata": {
        "colab": {
          "base_uri": "https://localhost:8080/"
        },
        "id": "0W_UKhX-sMre",
        "outputId": "be4d2271-7e82-4f3e-89eb-9cae82405fc4"
      },
      "execution_count": 35,
      "outputs": [
        {
          "output_type": "stream",
          "name": "stdout",
          "text": [
            "Epoch 1/15\n",
            "938/938 [==============================] - 10s 10ms/step - loss: 0.6029 - accuracy: 0.7830\n",
            "Epoch 2/15\n",
            "938/938 [==============================] - 7s 7ms/step - loss: 0.4574 - accuracy: 0.8326\n",
            "Epoch 3/15\n",
            "938/938 [==============================] - 8s 9ms/step - loss: 0.4220 - accuracy: 0.8450\n",
            "Epoch 4/15\n",
            "938/938 [==============================] - 7s 7ms/step - loss: 0.4007 - accuracy: 0.8531\n",
            "Epoch 5/15\n",
            "938/938 [==============================] - 8s 8ms/step - loss: 0.3851 - accuracy: 0.8571\n",
            "Epoch 6/15\n",
            "938/938 [==============================] - 7s 7ms/step - loss: 0.3734 - accuracy: 0.8625\n",
            "Epoch 7/15\n",
            "938/938 [==============================] - 8s 9ms/step - loss: 0.3577 - accuracy: 0.8665\n",
            "Epoch 8/15\n",
            "938/938 [==============================] - 7s 7ms/step - loss: 0.3523 - accuracy: 0.8692\n",
            "Epoch 9/15\n",
            "938/938 [==============================] - 8s 9ms/step - loss: 0.3431 - accuracy: 0.8721\n",
            "Epoch 10/15\n",
            "938/938 [==============================] - 7s 7ms/step - loss: 0.3370 - accuracy: 0.8757\n",
            "Epoch 11/15\n",
            "938/938 [==============================] - 8s 8ms/step - loss: 0.3300 - accuracy: 0.8778\n",
            "Epoch 12/15\n",
            "938/938 [==============================] - 8s 8ms/step - loss: 0.3250 - accuracy: 0.8790\n",
            "Epoch 13/15\n",
            "938/938 [==============================] - 7s 8ms/step - loss: 0.3207 - accuracy: 0.8812\n",
            "Epoch 14/15\n",
            "938/938 [==============================] - 7s 8ms/step - loss: 0.3153 - accuracy: 0.8824\n",
            "Epoch 15/15\n",
            "938/938 [==============================] - 8s 8ms/step - loss: 0.3093 - accuracy: 0.8854\n"
          ]
        },
        {
          "output_type": "execute_result",
          "data": {
            "text/plain": [
              "<keras.src.callbacks.History at 0x7bf003e45870>"
            ]
          },
          "metadata": {},
          "execution_count": 35
        }
      ]
    },
    {
      "cell_type": "code",
      "source": [
        "test_loss, test_acc = model.evaluate(test_images,  test_labels, verbose=2)\n",
        "\n",
        "print('\\nTest accuracy:', test_acc)"
      ],
      "metadata": {
        "colab": {
          "base_uri": "https://localhost:8080/"
        },
        "id": "NVP2MarosPAl",
        "outputId": "330548c5-65a2-4122-cfa7-7f76130a7471"
      },
      "execution_count": 36,
      "outputs": [
        {
          "output_type": "stream",
          "name": "stdout",
          "text": [
            "313/313 - 2s - loss: 0.3312 - accuracy: 0.8801 - 2s/epoch - 6ms/step\n",
            "\n",
            "Test accuracy: 0.8801000118255615\n"
          ]
        }
      ]
    },
    {
      "cell_type": "code",
      "execution_count": 14,
      "metadata": {
        "execution": {
          "iopub.execute_input": "2020-09-23T00:12:05.902968Z",
          "iopub.status.busy": "2020-09-23T00:12:05.900405Z",
          "iopub.status.idle": "2020-09-23T00:12:07.650519Z",
          "shell.execute_reply": "2020-09-23T00:12:07.650995Z"
        },
        "id": "9ODch-OFCaW4"
      },
      "outputs": [],
      "source": [
        "#modelo inicial\n",
        "model = keras.Sequential([\n",
        "    keras.layers.Flatten(input_shape=(28, 28)),#si cambia este num, linea 32 error, debido a que son los pixeles\n",
        "    keras.layers.Dense(128, activation='relu'),\n",
        "    keras.layers.Dense(10, activation='softmax')\n",
        "])"
      ]
    },
    {
      "cell_type": "code",
      "execution_count": 15,
      "metadata": {
        "execution": {
          "iopub.execute_input": "2020-09-23T00:12:07.663857Z",
          "iopub.status.busy": "2020-09-23T00:12:07.663044Z",
          "iopub.status.idle": "2020-09-23T00:12:07.670764Z",
          "shell.execute_reply": "2020-09-23T00:12:07.670104Z"
        },
        "id": "Lhan11blCaW7"
      },
      "outputs": [],
      "source": [
        "model.compile(optimizer='adam',\n",
        "              loss='sparse_categorical_crossentropy',\n",
        "              metrics=['accuracy'])"
      ]
    },
    {
      "cell_type": "code",
      "execution_count": 16,
      "metadata": {
        "execution": {
          "iopub.execute_input": "2020-09-23T00:12:07.675211Z",
          "iopub.status.busy": "2020-09-23T00:12:07.674345Z",
          "iopub.status.idle": "2020-09-23T00:12:36.454526Z",
          "shell.execute_reply": "2020-09-23T00:12:36.453882Z"
        },
        "id": "xvwvpA64CaW_",
        "colab": {
          "base_uri": "https://localhost:8080/"
        },
        "outputId": "3bbbab98-b7da-4e3c-9a7e-a73eb9cc80cf"
      },
      "outputs": [
        {
          "output_type": "stream",
          "name": "stdout",
          "text": [
            "Epoch 1/15\n",
            "1875/1875 [==============================] - 20s 10ms/step - loss: 0.5037 - accuracy: 0.8228\n",
            "Epoch 2/15\n",
            "1875/1875 [==============================] - 16s 8ms/step - loss: 0.3813 - accuracy: 0.8627\n",
            "Epoch 3/15\n",
            "1875/1875 [==============================] - 15s 8ms/step - loss: 0.3404 - accuracy: 0.8763\n",
            "Epoch 4/15\n",
            "1875/1875 [==============================] - 12s 7ms/step - loss: 0.3153 - accuracy: 0.8849\n",
            "Epoch 5/15\n",
            "1875/1875 [==============================] - 14s 7ms/step - loss: 0.2974 - accuracy: 0.8907\n",
            "Epoch 6/15\n",
            "1875/1875 [==============================] - 10s 5ms/step - loss: 0.2839 - accuracy: 0.8957\n",
            "Epoch 7/15\n",
            "1875/1875 [==============================] - 16s 8ms/step - loss: 0.2713 - accuracy: 0.8999\n",
            "Epoch 8/15\n",
            "1875/1875 [==============================] - 14s 7ms/step - loss: 0.2600 - accuracy: 0.9042\n",
            "Epoch 9/15\n",
            "1875/1875 [==============================] - 9s 5ms/step - loss: 0.2506 - accuracy: 0.9068\n",
            "Epoch 10/15\n",
            "1875/1875 [==============================] - 8s 4ms/step - loss: 0.2405 - accuracy: 0.9109\n",
            "Epoch 11/15\n",
            "1875/1875 [==============================] - 8s 4ms/step - loss: 0.2339 - accuracy: 0.9114\n",
            "Epoch 12/15\n",
            "1875/1875 [==============================] - 9s 5ms/step - loss: 0.2259 - accuracy: 0.9162\n",
            "Epoch 13/15\n",
            "1875/1875 [==============================] - 8s 4ms/step - loss: 0.2192 - accuracy: 0.9178\n",
            "Epoch 14/15\n",
            "1875/1875 [==============================] - 9s 5ms/step - loss: 0.2145 - accuracy: 0.9200\n",
            "Epoch 15/15\n",
            "1875/1875 [==============================] - 7s 4ms/step - loss: 0.2085 - accuracy: 0.9226\n"
          ]
        },
        {
          "output_type": "execute_result",
          "data": {
            "text/plain": [
              "<keras.src.callbacks.History at 0x7bf0088a3400>"
            ]
          },
          "metadata": {},
          "execution_count": 16
        }
      ],
      "source": [
        "model.fit(train_images, train_labels, epochs=15)# los epochs se pueden modificar, ya que son las epocas"
      ]
    },
    {
      "cell_type": "code",
      "execution_count": 17,
      "metadata": {
        "execution": {
          "iopub.execute_input": "2020-09-23T00:12:36.459549Z",
          "iopub.status.busy": "2020-09-23T00:12:36.458790Z",
          "iopub.status.idle": "2020-09-23T00:12:37.082116Z",
          "shell.execute_reply": "2020-09-23T00:12:37.082547Z"
        },
        "id": "VflXLEeECaXC",
        "colab": {
          "base_uri": "https://localhost:8080/"
        },
        "outputId": "4a2c0d90-49c0-4082-b17b-3871f8ccb739"
      },
      "outputs": [
        {
          "output_type": "stream",
          "name": "stdout",
          "text": [
            "313/313 - 1s - loss: 0.3501 - accuracy: 0.8863 - 703ms/epoch - 2ms/step\n",
            "\n",
            "Test accuracy: 0.8863000273704529\n"
          ]
        }
      ],
      "source": [
        "test_loss, test_acc = model.evaluate(test_images,  test_labels, verbose=2)\n",
        "\n",
        "print('\\nTest accuracy:', test_acc)"
      ]
    },
    {
      "cell_type": "code",
      "execution_count": 18,
      "metadata": {
        "execution": {
          "iopub.execute_input": "2020-09-23T00:12:37.087029Z",
          "iopub.status.busy": "2020-09-23T00:12:37.086398Z",
          "iopub.status.idle": "2020-09-23T00:12:37.407345Z",
          "shell.execute_reply": "2020-09-23T00:12:37.406539Z"
        },
        "id": "Gl91RPhdCaXI",
        "colab": {
          "base_uri": "https://localhost:8080/"
        },
        "outputId": "46930e84-8d0a-4047-e4fa-4bbe6fd78ad5"
      },
      "outputs": [
        {
          "output_type": "stream",
          "name": "stdout",
          "text": [
            "313/313 [==============================] - 1s 2ms/step\n"
          ]
        }
      ],
      "source": [
        "predictions = model.predict(test_images)"
      ]
    },
    {
      "cell_type": "code",
      "execution_count": 19,
      "metadata": {
        "execution": {
          "iopub.execute_input": "2020-09-23T00:12:37.412550Z",
          "iopub.status.busy": "2020-09-23T00:12:37.411807Z",
          "iopub.status.idle": "2020-09-23T00:12:37.414437Z",
          "shell.execute_reply": "2020-09-23T00:12:37.414875Z"
        },
        "id": "3DmJEUinCaXK",
        "colab": {
          "base_uri": "https://localhost:8080/"
        },
        "outputId": "b5973f2c-bec5-4f8c-cf85-34f41032fb40"
      },
      "outputs": [
        {
          "output_type": "execute_result",
          "data": {
            "text/plain": [
              "array([7.99991042e-08, 3.71138918e-11, 2.85889779e-09, 5.00016084e-10,\n",
              "       1.60864932e-10, 6.08251539e-05, 1.20447226e-08, 1.34465971e-03,\n",
              "       7.04293655e-08, 9.98594284e-01], dtype=float32)"
            ]
          },
          "metadata": {},
          "execution_count": 19
        }
      ],
      "source": [
        "predictions[0]"
      ]
    },
    {
      "cell_type": "code",
      "execution_count": 20,
      "metadata": {
        "execution": {
          "iopub.execute_input": "2020-09-23T00:12:37.419598Z",
          "iopub.status.busy": "2020-09-23T00:12:37.418897Z",
          "iopub.status.idle": "2020-09-23T00:12:37.421942Z",
          "shell.execute_reply": "2020-09-23T00:12:37.421420Z"
        },
        "id": "qsqenuPnCaXO",
        "colab": {
          "base_uri": "https://localhost:8080/"
        },
        "outputId": "d180a324-995a-4918-d046-eed7e562352c"
      },
      "outputs": [
        {
          "output_type": "execute_result",
          "data": {
            "text/plain": [
              "9"
            ]
          },
          "metadata": {},
          "execution_count": 20
        }
      ],
      "source": [
        "np.argmax(predictions[0])"
      ]
    },
    {
      "cell_type": "code",
      "execution_count": 21,
      "metadata": {
        "execution": {
          "iopub.execute_input": "2020-09-23T00:12:37.426275Z",
          "iopub.status.busy": "2020-09-23T00:12:37.425639Z",
          "iopub.status.idle": "2020-09-23T00:12:37.428526Z",
          "shell.execute_reply": "2020-09-23T00:12:37.428018Z"
        },
        "id": "Sd7Pgsu6CaXP",
        "colab": {
          "base_uri": "https://localhost:8080/"
        },
        "outputId": "9346e4c6-a9c4-4ad9-ee2d-38d2138f86fe"
      },
      "outputs": [
        {
          "output_type": "execute_result",
          "data": {
            "text/plain": [
              "9"
            ]
          },
          "metadata": {},
          "execution_count": 21
        }
      ],
      "source": [
        "test_labels[0]"
      ]
    },
    {
      "cell_type": "code",
      "execution_count": 22,
      "metadata": {
        "execution": {
          "iopub.execute_input": "2020-09-23T00:12:37.436576Z",
          "iopub.status.busy": "2020-09-23T00:12:37.435927Z",
          "iopub.status.idle": "2020-09-23T00:12:37.437739Z",
          "shell.execute_reply": "2020-09-23T00:12:37.438165Z"
        },
        "id": "DvYmmrpIy6Y1"
      },
      "outputs": [],
      "source": [
        "def plot_image(i, predictions_array, true_label, img):\n",
        "  predictions_array, true_label, img = predictions_array, true_label[i], img[i]\n",
        "  plt.grid(False)\n",
        "  plt.xticks([])\n",
        "  plt.yticks([])\n",
        "\n",
        "  plt.imshow(img, cmap=plt.cm.binary)\n",
        "\n",
        "  predicted_label = np.argmax(predictions_array)\n",
        "  if predicted_label == true_label:\n",
        "    color = 'blue'\n",
        "  else:\n",
        "    color = 'red'\n",
        "\n",
        "  plt.xlabel(\"{} {:2.0f}% ({})\".format(class_names[predicted_label],\n",
        "                                100*np.max(predictions_array),\n",
        "                                class_names[true_label]),\n",
        "                                color=color)\n",
        "\n",
        "def plot_value_array(i, predictions_array, true_label):\n",
        "  predictions_array, true_label = predictions_array, true_label[i]\n",
        "  plt.grid(False)\n",
        "  plt.xticks(range(10))#no se peuden cambiar el rango\n",
        "  plt.yticks([])\n",
        "  thisplot = plt.bar(range(10), predictions_array, color=\"#777777\")\n",
        "  plt.ylim([0, 1])\n",
        "  predicted_label = np.argmax(predictions_array)\n",
        "\n",
        "  thisplot[predicted_label].set_color('red')\n",
        "  thisplot[true_label].set_color('blue')"
      ]
    },
    {
      "cell_type": "code",
      "execution_count": 23,
      "metadata": {
        "execution": {
          "iopub.execute_input": "2020-09-23T00:12:37.447943Z",
          "iopub.status.busy": "2020-09-23T00:12:37.443377Z",
          "iopub.status.idle": "2020-09-23T00:12:37.559790Z",
          "shell.execute_reply": "2020-09-23T00:12:37.560326Z"
        },
        "id": "HV5jw-5HwSmO",
        "colab": {
          "base_uri": "https://localhost:8080/",
          "height": 291
        },
        "outputId": "9af6a462-2412-4ae3-d8e4-afa325bf6a53"
      },
      "outputs": [
        {
          "output_type": "display_data",
          "data": {
            "text/plain": [
              "<Figure size 600x300 with 2 Axes>"
            ],
            "image/png": "[encoded data removed]"
          },
          "metadata": {}
        }
      ],
      "source": [
        "i = 0\n",
        "plt.figure(figsize=(6,3))\n",
        "plt.subplot(1,2,1)\n",
        "plot_image(i, predictions[i], test_labels, test_images)\n",
        "plt.subplot(1,2,2)\n",
        "plot_value_array(i, predictions[i],  test_labels)\n",
        "plt.show()"
      ]
    },
    {
      "cell_type": "code",
      "execution_count": 24,
      "metadata": {
        "execution": {
          "iopub.execute_input": "2020-09-23T00:12:37.574455Z",
          "iopub.status.busy": "2020-09-23T00:12:37.572922Z",
          "iopub.status.idle": "2020-09-23T00:12:37.679858Z",
          "shell.execute_reply": "2020-09-23T00:12:37.679297Z"
        },
        "id": "Ko-uzOufSCSe",
        "colab": {
          "base_uri": "https://localhost:8080/",
          "height": 291
        },
        "outputId": "c71a739b-fa82-4de1-f196-28dc90298cca"
      },
      "outputs": [
        {
          "output_type": "display_data",
          "data": {
            "text/plain": [
              "<Figure size 600x300 with 2 Axes>"
            ],
            "image/png": "[encoded data removed]"
          },
          "metadata": {}
        }
      ],
      "source": [
        "i = 12\n",
        "plt.figure(figsize=(6,3))\n",
        "plt.subplot(1,2,1)\n",
        "plot_image(i, predictions[i], test_labels, test_images)\n",
        "plt.subplot(1,2,2)\n",
        "plot_value_array(i, predictions[i],  test_labels)\n",
        "plt.show()"
      ]
    },
    {
      "cell_type": "code",
      "source": [
        "i = 20   #nueva\n",
        "plt.figure(figsize=(6,3))\n",
        "plt.subplot(1,2,1)\n",
        "plot_image(i, predictions[i], test_labels, test_images)\n",
        "plt.subplot(1,2,2)\n",
        "plot_value_array(i, predictions[i],  test_labels)\n",
        "plt.show()"
      ],
      "metadata": {
        "colab": {
          "base_uri": "https://localhost:8080/",
          "height": 291
        },
        "id": "K92yhbuiDDmi",
        "outputId": "276d95d3-b90e-4646-d232-9bc899a0062f"
      },
      "execution_count": 25,
      "outputs": [
        {
          "output_type": "display_data",
          "data": {
            "text/plain": [
              "<Figure size 600x300 with 2 Axes>"
            ],
            "image/png": "[encoded data removed]"
          },
          "metadata": {}
        }
      ]
    },
    {
      "cell_type": "code",
      "execution_count": 26,
      "metadata": {
        "execution": {
          "iopub.execute_input": "2020-09-23T00:12:37.704262Z",
          "iopub.status.busy": "2020-09-23T00:12:37.703472Z",
          "iopub.status.idle": "2020-09-23T00:12:39.542467Z",
          "shell.execute_reply": "2020-09-23T00:12:39.543014Z"
        },
        "id": "hQlnbqaw2Qu_",
        "colab": {
          "base_uri": "https://localhost:8080/",
          "height": 407
        },
        "outputId": "87649bbf-ab46-4538-99d0-57e983530c6b"
      },
      "outputs": [
        {
          "output_type": "display_data",
          "data": {
            "text/plain": [
              "<Figure size 800x400 with 8 Axes>"
            ],
            "image/png": "[encoded data removed]"
          },
          "metadata": {}
        }
      ],
      "source": [
        "num_rows = 2\n",
        "num_cols = 2\n",
        "num_images = num_rows*num_cols\n",
        "plt.figure(figsize=(2*2*num_cols, 2*num_rows))\n",
        "for i in range(num_images):\n",
        "  plt.subplot(num_rows, 2*num_cols, 2*i+1)\n",
        "  plot_image(i, predictions[i], test_labels, test_images)\n",
        "  plt.subplot(num_rows, 2*num_cols, 2*i+2)\n",
        "  plot_value_array(i, predictions[i], test_labels)\n",
        "plt.tight_layout()\n",
        "plt.show()"
      ]
    },
    {
      "cell_type": "code",
      "execution_count": 27,
      "metadata": {
        "execution": {
          "iopub.execute_input": "2020-09-23T00:12:39.547795Z",
          "iopub.status.busy": "2020-09-23T00:12:39.547091Z",
          "iopub.status.idle": "2020-09-23T00:12:39.549226Z",
          "shell.execute_reply": "2020-09-23T00:12:39.549730Z"
        },
        "id": "yRJ7JU7JCaXT",
        "colab": {
          "base_uri": "https://localhost:8080/"
        },
        "outputId": "ab3debd3-4a9e-4c6f-bbdb-ac88f7b4fe67"
      },
      "outputs": [
        {
          "output_type": "stream",
          "name": "stdout",
          "text": [
            "(28, 28)\n"
          ]
        }
      ],
      "source": [
        "# Grab an image from the test dataset.\n",
        "img = test_images[1]\n",
        "\n",
        "print(img.shape)"
      ]
    },
    {
      "cell_type": "code",
      "execution_count": 28,
      "metadata": {
        "execution": {
          "iopub.execute_input": "2020-09-23T00:12:39.554000Z",
          "iopub.status.busy": "2020-09-23T00:12:39.553363Z",
          "iopub.status.idle": "2020-09-23T00:12:39.556184Z",
          "shell.execute_reply": "2020-09-23T00:12:39.555583Z"
        },
        "id": "lDFh5yF_CaXW",
        "colab": {
          "base_uri": "https://localhost:8080/"
        },
        "outputId": "31a1e941-9627-47f5-c199-79af982da93a"
      },
      "outputs": [
        {
          "output_type": "stream",
          "name": "stdout",
          "text": [
            "(1, 28, 28)\n"
          ]
        }
      ],
      "source": [
        "# Add the image to a batch where it's the only member.\n",
        "img = (np.expand_dims(img,0))\n",
        "\n",
        "print(img.shape)"
      ]
    },
    {
      "cell_type": "code",
      "execution_count": 29,
      "metadata": {
        "execution": {
          "iopub.execute_input": "2020-09-23T00:12:39.560100Z",
          "iopub.status.busy": "2020-09-23T00:12:39.559462Z",
          "iopub.status.idle": "2020-09-23T00:12:39.595462Z",
          "shell.execute_reply": "2020-09-23T00:12:39.595894Z"
        },
        "id": "o_rzNSdrCaXY",
        "colab": {
          "base_uri": "https://localhost:8080/"
        },
        "outputId": "dab267fa-26cb-4997-a1ec-af07eeaa63a2"
      },
      "outputs": [
        {
          "output_type": "stream",
          "name": "stdout",
          "text": [
            "1/1 [==============================] - 0s 22ms/step\n",
            "[[2.1044498e-04 3.8844491e-14 9.9902523e-01 5.1583537e-10 7.6104206e-04\n",
            "  1.6329243e-16 3.3345930e-06 8.1034595e-21 2.0740748e-10 1.0085333e-14]]\n"
          ]
        }
      ],
      "source": [
        "predictions_single = model.predict(img)\n",
        "\n",
        "print(predictions_single)"
      ]
    },
    {
      "cell_type": "code",
      "execution_count": 30,
      "metadata": {
        "execution": {
          "iopub.execute_input": "2020-09-23T00:12:39.613213Z",
          "iopub.status.busy": "2020-09-23T00:12:39.607790Z",
          "iopub.status.idle": "2020-09-23T00:12:39.693950Z",
          "shell.execute_reply": "2020-09-23T00:12:39.693294Z"
        },
        "id": "6Ai-cpLjO-3A",
        "colab": {
          "base_uri": "https://localhost:8080/",
          "height": 478
        },
        "outputId": "f5684283-8656-4bd4-815f-ad7af2368418"
      },
      "outputs": [
        {
          "output_type": "display_data",
          "data": {
            "text/plain": [
              "<Figure size 640x480 with 1 Axes>"
            ],
            "image/png": "[encoded data removed]"
          },
          "metadata": {}
        }
      ],
      "source": [
        "plot_value_array(1, predictions_single[0], test_labels)\n",
        "_ = plt.xticks(range(10), class_names, rotation=45)"
      ]
    },
    {
      "cell_type": "code",
      "execution_count": 31,
      "metadata": {
        "execution": {
          "iopub.execute_input": "2020-09-23T00:12:39.698805Z",
          "iopub.status.busy": "2020-09-23T00:12:39.698163Z",
          "iopub.status.idle": "2020-09-23T00:12:39.701361Z",
          "shell.execute_reply": "2020-09-23T00:12:39.700720Z"
        },
        "id": "2tRmdq_8CaXb",
        "colab": {
          "base_uri": "https://localhost:8080/"
        },
        "outputId": "11d882c1-f089-413a-e6aa-55ca2d216c53"
      },
      "outputs": [
        {
          "output_type": "execute_result",
          "data": {
            "text/plain": [
              "2"
            ]
          },
          "metadata": {},
          "execution_count": 31
        }
      ],
      "source": [
        "np.argmax(predictions_single[0])"
      ]
    }
  ],
  "metadata": {
    "colab": {
      "provenance": []
    },
    "kernelspec": {
      "display_name": "Python 3 (ipykernel)",
      "language": "python",
      "name": "python3"
    },
    "language_info": {
      "codemirror_mode": {
        "name": "ipython",
        "version": 3
      },
      "file_extension": ".py",
      "mimetype": "text/x-python",
      "name": "python",
      "nbconvert_exporter": "python",
      "pygments_lexer": "ipython3",
      "version": "3.8.3"
    }
  },
  "nbformat": 4,
  "nbformat_minor": 0
}